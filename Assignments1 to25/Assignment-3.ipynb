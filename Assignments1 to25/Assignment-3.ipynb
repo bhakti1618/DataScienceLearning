{
 "cells": [
  {
   "cell_type": "markdown",
   "metadata": {},
   "source": [
    "1. Why are functions advantageous to have in your programs?\n",
    "\n",
    "Answer :\n",
    "\n",
    "Functions reduce the need for duplicate code. This makes programs shorter, easier to read, and easier to update. ...\n",
    " A function call is what moves the program execution into the function, and the function call evaluates to the function's return value.\n"
   ]
  },
  {
   "cell_type": "markdown",
   "metadata": {},
   "source": [
    "2. When does the code in a function run: when it's specified or when it's called?\n",
    "\n",
    " Answer :\n",
    " \n",
    " A statement that executes a function. It consists of the name of the function followed by a list of arguments enclosed in parentheses.\n",
    "  Using the output from one function call as the input to another. \n"
   ]
  },
  {
   "cell_type": "markdown",
   "metadata": {},
   "source": [
    "3.What statement creates a function?\n",
    "\n",
    "Answer :\n",
    "\n",
    "The “def” keyword is a statement for defining a function in Python. You start a function with the def keyword, specify a name \n",
    "followed by a colon (:) sign. The “def” call creates the function object and assigns it to the name given. You can further re-assign\n",
    "the same function object to other names."
   ]
  },
  {
   "cell_type": "markdown",
   "metadata": {},
   "source": [
    "4. What is the difference between a function and a function call? \n",
    "\n",
    "  Answer :\n",
    "  \n",
    "  A function call means invoking or calling that function. Unless a function is called there is no use of that function. ... \n",
    "  So the difference between the function and function call is, A function is procedure to achieve a particular result while \n",
    "  function call is using this function to achive that task."
   ]
  },
  {
   "cell_type": "markdown",
   "metadata": {},
   "source": [
    "5.How many global scopes are there in a Python program? How many local scopes?\n",
    "\n",
    " Answer :\n",
    "\n",
    "There's only one global Python scope per program execution. This scope remains in existence until the program terminates and all its \n",
    "  names are forgotten."
   ]
  },
  {
   "cell_type": "markdown",
   "metadata": {},
   "source": [
    "6. What happens to variables in a local scope when the function call returns?\n",
    "\n",
    "  Answer :\n",
    "\n",
    "A local variable retains its value until the next time the function is called A local variable becomes undefined after the function \n",
    "call completes The local variable can be used outside the function any time after the function call completes."
   ]
  },
  {
   "cell_type": "markdown",
   "metadata": {},
   "source": [
    "7. What is the concept of a return value? Is it possible to have a return value in an expression?\n",
    "\n",
    "Answer :\n",
    "\n",
    "A return statement is used to end the execution of the function call and “returns” the result (value of the expression following the \n",
    "return keyword) to the caller. The statements after the return statements are not executed. If the return statement is without any\n",
    "expression, then the special value None is returned."
   ]
  },
  {
   "cell_type": "markdown",
   "metadata": {},
   "source": [
    " 8.If a function does not have a return statement, what is the return value of a call to that function?\n",
    "\n",
    "Answer :\n",
    "\n",
    "If no return statement appears in a function definition, control automatically returns to the calling function after the last \n",
    "statement of the called function is executed. In this case, the return value of the called function is undefined.\n"
   ]
  },
  {
   "cell_type": "markdown",
   "metadata": {},
   "source": [
    "9.How do you make a function variable refer to the global variable?\n",
    "\n",
    " Answer :\n",
    "\n",
    "If you want to refer to a global variable in a function, you can use the global keyword to declare which variables are global.\n"
   ]
  },
  {
   "cell_type": "markdown",
   "metadata": {},
   "source": [
    "10. What is the data type of None?\n",
    "\n",
    " Answer :\n",
    "\n",
    "None keyword is an object, and it is a data type of the class NoneType . We can assign None to any variable, but you can not create\n",
    "other NoneType objects."
   ]
  },
  {
   "cell_type": "markdown",
   "metadata": {},
   "source": [
    "11.What does the sentence import areallyourpetsnamederic do?\n",
    "\n",
    " Answer :\n",
    "\n",
    "A global statement will force a variable in a function to refer to the global variable. The data type of None is NoneType .\n",
    "That import statement imports a module named areallyourpetsnamederic ."
   ]
  },
  {
   "cell_type": "markdown",
   "metadata": {},
   "source": [
    "12.If you had a bacon() feature in a spam module, what would you call it after importing spam?\n",
    "\n",
    "Answer : This function can be called with spam. bacon()."
   ]
  },
  {
   "cell_type": "markdown",
   "metadata": {},
   "source": [
    "13. What can you do to save a programme from crashing if it encounters an error?\n",
    "\n",
    "   Answer :\n",
    "\n",
    "Prevents program from crashing if an error occurs. If an error occurs in a program, we don't want the program to unexpectedly crash \n",
    "on the user. Instead, error handling can be used to notify the user of why the error occurred and gracefully exit the process that\n",
    "caused the error."
   ]
  },
  {
   "cell_type": "markdown",
   "metadata": {},
   "source": [
    "14. What is the purpose of the try clause? What is the purpose of the except clause?\n",
    "\n",
    "Answer:\n",
    "\n",
    "The try block allows you to test a block of code for errors. The except block enables you to handle the error with a user-defined \n",
    "response.\n",
    "   "
   ]
  }
 ],
 "metadata": {
  "language_info": {
   "name": "python"
  },
  "orig_nbformat": 4
 },
 "nbformat": 4,
 "nbformat_minor": 2
}
