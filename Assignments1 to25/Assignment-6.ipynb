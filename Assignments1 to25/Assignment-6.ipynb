{
 "cells": [
  {
   "cell_type": "markdown",
   "id": "a57e21ff",
   "metadata": {},
   "source": [
    "1. What are escape characters, and how do you use them?\n",
    "\n",
    "Answer :\n",
    "    In Python strings, the backslash “ ” is a special character, also called the “escape” character. It is used in\n",
    "    representing certain whitespace characters: “\\t” is a tab, “\\n” is a new line, and “\\r” is a carriage return. Finally,\n",
    "    “ ” can be used to escape itself: “\\” is the literal backslash character."
   ]
  },
  {
   "cell_type": "markdown",
   "id": "8109b27f",
   "metadata": {},
   "source": [
    " 2. What do the escape characters n and t stand for?\n",
    "\n",
    "Answer :\n",
    "    In Python strings, the backslash “ ” is a special character, also called the “escape” character. It is used in\n",
    "    representing certain whitespace characters: “\\t” is a tab, “\\n” is a new line, and “\\r” is a carriage return."
   ]
  },
  {
   "cell_type": "markdown",
   "id": "681a8806",
   "metadata": {},
   "source": [
    "3. What is the way to include backslash characters in a string?\n",
    "\n",
    "Answer :\n",
    "    If you want an actual backslash in the string or regex, you have to write two: \\\\ . If you're using a string to create\n",
    "    a regular expression (rather than using a regular expression literal as I did above), note that you're dealing with \n",
    "    two levels: The string level, and the regular expression level."
   ]
  },
  {
   "cell_type": "markdown",
   "id": "24c5baee",
   "metadata": {},
   "source": [
    " 4. The string \"Howl's Moving Castle\" is a correct value. Why isn't the single quote character in the word Howl's not \n",
    "    escaped a problem?\n",
    "  \n",
    "Answer :\n",
    "    Because the whole string is encapsulated by quotes.\n",
    "    "
   ]
  },
  {
   "cell_type": "markdown",
   "id": "68fd0c8f",
   "metadata": {},
   "source": [
    " 5. How do you write a string of newlines if you don't want to use the n character?\n",
    "    \n",
    "  Answer:\n",
    "    It is used to indicate the end of a line of text. You can print strings without adding a new line with end = <character>\n",
    "    , which <character> is the character that will be used to separate the lines.\n"
   ]
  },
  {
   "cell_type": "markdown",
   "id": "47593f23",
   "metadata": {},
   "source": [
    "6. What are the values of the given expressions?\n",
    "'Hello, world!'[1]\n",
    "'Hello, world!'[0:5]\n",
    "'Hello, world!'[:5]\n",
    "'Hello, world!'[3:]\n"
   ]
  },
  {
   "cell_type": "code",
   "execution_count": 1,
   "id": "aba86548",
   "metadata": {},
   "outputs": [
    {
     "data": {
      "text/plain": [
       "'e'"
      ]
     },
     "execution_count": 1,
     "metadata": {},
     "output_type": "execute_result"
    }
   ],
   "source": [
    "'Hello, world!'[1]\n"
   ]
  },
  {
   "cell_type": "code",
   "execution_count": 2,
   "id": "72fbe2e5",
   "metadata": {},
   "outputs": [
    {
     "data": {
      "text/plain": [
       "'Hello'"
      ]
     },
     "execution_count": 2,
     "metadata": {},
     "output_type": "execute_result"
    }
   ],
   "source": [
    "'Hello, world!'[0:5]"
   ]
  },
  {
   "cell_type": "code",
   "execution_count": 3,
   "id": "19642b0c",
   "metadata": {},
   "outputs": [
    {
     "data": {
      "text/plain": [
       "'Hello'"
      ]
     },
     "execution_count": 3,
     "metadata": {},
     "output_type": "execute_result"
    }
   ],
   "source": [
    "'Hello, world!'[:5]"
   ]
  },
  {
   "cell_type": "code",
   "execution_count": 4,
   "id": "f4391407",
   "metadata": {},
   "outputs": [
    {
     "data": {
      "text/plain": [
       "'lo, world!'"
      ]
     },
     "execution_count": 4,
     "metadata": {},
     "output_type": "execute_result"
    }
   ],
   "source": [
    "'Hello, world!'[3:]"
   ]
  },
  {
   "cell_type": "markdown",
   "id": "68fd4f9b",
   "metadata": {},
   "source": [
    "7. What are the values of the following expressions?\n",
    "'Hello'.upper()\n",
    "'Hello'.upper().isupper()\n",
    "'Hello'.upper().lower()\n"
   ]
  },
  {
   "cell_type": "code",
   "execution_count": 5,
   "id": "f8799f11",
   "metadata": {},
   "outputs": [
    {
     "data": {
      "text/plain": [
       "'HELLO'"
      ]
     },
     "execution_count": 5,
     "metadata": {},
     "output_type": "execute_result"
    }
   ],
   "source": [
    "'Hello'.upper()"
   ]
  },
  {
   "cell_type": "code",
   "execution_count": 6,
   "id": "4f6a13f5",
   "metadata": {},
   "outputs": [
    {
     "data": {
      "text/plain": [
       "True"
      ]
     },
     "execution_count": 6,
     "metadata": {},
     "output_type": "execute_result"
    }
   ],
   "source": [
    "'Hello'.upper().isupper()"
   ]
  },
  {
   "cell_type": "code",
   "execution_count": 7,
   "id": "aa753aab",
   "metadata": {},
   "outputs": [
    {
     "data": {
      "text/plain": [
       "'hello'"
      ]
     },
     "execution_count": 7,
     "metadata": {},
     "output_type": "execute_result"
    }
   ],
   "source": [
    "'Hello'.upper().lower()"
   ]
  },
  {
   "cell_type": "code",
   "execution_count": null,
   "id": "fde25937",
   "metadata": {},
   "outputs": [],
   "source": [
    "8. What do the following expressions evaluate to?\n",
    "\n",
    "'Remember, remember, the fifth of November.'.split()\n",
    "\n",
    "'-'.join('There can be only one.'.split())\n",
    "\n",
    "Answer :\n",
    "'There-can-be-only-one."
   ]
  },
  {
   "cell_type": "code",
   "execution_count": null,
   "id": "f84094e5",
   "metadata": {},
   "outputs": [],
   "source": [
    "9. What are the methods for right-justifying, left-justifying, and centering a string?\n",
    "\n",
    "Answer :\n",
    "    The rjust(), ljust(), and center() string methods, respectively"
   ]
  },
  {
   "cell_type": "code",
   "execution_count": null,
   "id": "22728cb7",
   "metadata": {},
   "outputs": [],
   "source": [
    "10. What is the best way to remove whitespace characters from the start or end?\n",
    "\n",
    "Answer \n",
    "To remove whitespace characters from the beginning or from the end of a string only, you use the trimStart() or trimEnd()\n",
    "method."
   ]
  }
 ],
 "metadata": {
  "kernelspec": {
   "display_name": "Python 3 (ipykernel)",
   "language": "python",
   "name": "python3"
  },
  "language_info": {
   "codemirror_mode": {
    "name": "ipython",
    "version": 3
   },
   "file_extension": ".py",
   "mimetype": "text/x-python",
   "name": "python",
   "nbconvert_exporter": "python",
   "pygments_lexer": "ipython3",
   "version": "3.9.7"
  }
 },
 "nbformat": 4,
 "nbformat_minor": 5
}
