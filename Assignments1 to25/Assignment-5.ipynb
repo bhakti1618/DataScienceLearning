{
 "cells": [
  {
   "cell_type": "markdown",
   "id": "b8d0ad81",
   "metadata": {},
   "source": [
    "1. What does an empty dictionary's code look like?\n",
    "\n",
    "Answer :\n",
    " To create an empty dictionary, the dictionary should be set to {}. This is shown in the code below."
   ]
  },
  {
   "cell_type": "markdown",
   "id": "d83b4859",
   "metadata": {},
   "source": [
    "2. What is the value of a dictionary value with the key 'foo' and the value 42?\n",
    "\n",
    "Answer:\n",
    "    {'foo': 42}\n"
   ]
  },
  {
   "cell_type": "markdown",
   "id": "6f038033",
   "metadata": {},
   "source": [
    "3. What is the most significant distinction between a dictionary and a list?\n",
    "\n",
    "Answer :\n",
    " A list is an ordered sequence of objects, whereas dictionaries are unordered sets. However, the main difference is that \n",
    "items in dictionaries are accessed via keys and not via their position."
   ]
  },
  {
   "cell_type": "markdown",
   "id": "caf6fea1",
   "metadata": {},
   "source": [
    "4. What happens if you try to access spam['foo'] if spam is {'bar': 100}?\n",
    "\n",
    "Answer :\n",
    " There is no difference. The in operator checks whether a value exists as a key in the dictionary."
   ]
  },
  {
   "cell_type": "markdown",
   "id": "1ce84302",
   "metadata": {},
   "source": [
    "5. If a dictionary is stored in spam, what is the difference between the expressions 'cat' in spam and 'cat' in spam.keys()?\n",
    "\n",
    "Answer:\n",
    "    There is no difference. The in operator checks whether a value exists as a key in the dictionary. 'cat' in spam checks\n",
    "    whether there is a 'cat' key in the dictionary, while 'cat' in spam. values() checks whether there is a value 'cat' for\n",
    "    one of the keys in spam ."
   ]
  },
  {
   "cell_type": "markdown",
   "id": "0cc358a8",
   "metadata": {},
   "source": [
    "6. If a dictionary is stored in spam, what is the difference between the expressions 'cat' in spam and 'cat' in \n",
    "   spam.values()?\n",
    "    \n",
    "Answer:\n",
    "    There is no difference. The in operator checks whether a value exists as a key in the dictionary. 'cat' in spam checks \n",
    "    whether there is a 'cat' key in the dictionary, while 'cat' in spam. values() checks whether there is a value 'cat' for\n",
    "    one of the keys in spam ."
   ]
  },
  {
   "cell_type": "markdown",
   "id": "e16ee886",
   "metadata": {},
   "source": [
    " 7. What is a shortcut for the following code?\n",
    "\n",
    "if 'color' not in spam:\n",
    "spam['color'] = 'black'\n"
   ]
  },
  {
   "cell_type": "markdown",
   "id": "c5de1e83",
   "metadata": {},
   "source": [
    "8. How do you \"pretty print\" dictionary values using which module and function?\n",
    "\n",
    "Answer :\n",
    "    Use pprint() to Pretty Print "
   ]
  },
  {
   "cell_type": "code",
   "execution_count": null,
   "id": "fe2c139c",
   "metadata": {},
   "outputs": [],
   "source": []
  }
 ],
 "metadata": {
  "kernelspec": {
   "display_name": "Python 3 (ipykernel)",
   "language": "python",
   "name": "python3"
  },
  "language_info": {
   "codemirror_mode": {
    "name": "ipython",
    "version": 3
   },
   "file_extension": ".py",
   "mimetype": "text/x-python",
   "name": "python",
   "nbconvert_exporter": "python",
   "pygments_lexer": "ipython3",
   "version": "3.9.7"
  }
 },
 "nbformat": 4,
 "nbformat_minor": 5
}
