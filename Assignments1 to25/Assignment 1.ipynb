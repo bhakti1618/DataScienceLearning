{
 "cells": [
  {
   "cell_type": "markdown",
   "metadata": {},
   "source": [
    "<span style=\"color:blue\"> **1. In the below elements which of them are values or an expression?**</span>\n",
    "\n",
    "**eg:- values can be integer or string and expressions will be mathematical operators.**\n",
    "\n",
    "\n",
    "**Answer**:- Expressions      \n",
    "          String          'hello',\n",
    "          Float            -8.78, \n",
    "        Expressions         -, \n",
    "          Expressions       /, \n",
    "          Expressions       +, \n",
    "          Integer           6, \n",
    "\n",
    "\n",
    "          "
   ]
  },
  {
   "cell_type": "markdown",
   "metadata": {},
   "source": [
    "<span style=\"color:blue\">**2. What is the difference between string and variable?**</span>\n",
    "\n",
    "\n",
    "**Answer** A Variable is a store of information, and a String is a type of information you would store in a Variable.\n",
    "A String is usually words, enclosed with \"\"\n",
    "\n",
    "Eg.\n",
    "String x =\"My Name is Bhakti\"\n",
    "X is the Variable, and we declared it as a String, use the single = to assign the text to it.\n"
   ]
  },
  {
   "cell_type": "markdown",
   "metadata": {},
   "source": [
    "<span style=\"color:blue\">3. Describe three different data types.</span>\n",
    "\n",
    "**Answer** In Python, numeric data type represent the data which has numeric value. Numeric value can be integer, floating number or \n",
    "even complex numbers. These values are defined as int, float and complex class in Python.\n",
    "\n",
    "Integers – This value is represented by int class. It contains positive or negative whole numbers (without fraction or decimal). \n",
    "In Python there is no limit to how long an integer value can be.\n",
    "\n",
    "Float – This value is represented by float class. It is a real number with floating point representation. \n",
    "It is specified by a decimal point. Optionally, the character e or E followed by a positive or negative integer may be appended to specify \n",
    "scientific notation.\n",
    "\n",
    "Complex Numbers – Complex number is represented by complex class. \n",
    "\n",
    "\n",
    "\n",
    "\n"
   ]
  },
  {
   "cell_type": "markdown",
   "metadata": {},
   "source": [
    "<span style=\"color:blue\">4. What is an expression made up of? What do all expressions do?</span>\n",
    "\n",
    "**Answer**An expression is a construct made up of variables, operators, and method invocations,which are constructed according to the\n",
    "syntax of the language,that evaluates to a single value."
   ]
  },
  {
   "cell_type": "code",
   "execution_count": 5,
   "metadata": {},
   "outputs": [
    {
     "name": "stdout",
     "output_type": "stream",
     "text": [
      "10\n"
     ]
    }
   ],
   "source": [
    "sum= 5+5\n",
    "print(sum)"
   ]
  },
  {
   "cell_type": "markdown",
   "metadata": {},
   "source": [
    "<span style=\"color:blue\">5. This assignment statements, like spam = 10. What is the difference between an expression and a statement?</span>\n",
    "\n",
    "**Answer**An expression evaluates to a single value. A statement does not.\n"
   ]
  },
  {
   "cell_type": "markdown",
   "metadata": {},
   "source": [
    "<span style=\"color:blue\">6. After running the following code, what does the variable bacon contain?</sapn>\n",
    "\n",
    "**Answer**bacon = 22\n",
    "          bacon + 1\n",
    "\n",
    "Answer is 23"
   ]
  },
  {
   "cell_type": "code",
   "execution_count": 6,
   "metadata": {},
   "outputs": [
    {
     "data": {
      "text/plain": [
       "23"
      ]
     },
     "execution_count": 6,
     "metadata": {},
     "output_type": "execute_result"
    }
   ],
   "source": [
    "bacon = 22\n",
    "bacon + 1\n"
   ]
  },
  {
   "cell_type": "markdown",
   "metadata": {},
   "source": [
    "<span style=\"color:blue\">7. What should the values of the following two terms be?</span>\n",
    "\n",
    "**Answer**\n",
    "'spam' + 'spamspam'\n",
    "'spam' * 3\n",
    "\n",
    "Answer is 'spamspamspam'"
   ]
  },
  {
   "cell_type": "markdown",
   "metadata": {},
   "source": [
    "<span style=\"color:blue\">8. Why is eggs a valid variable name while 100 is invalid?</span>\n",
    "\n",
    "**Answer**\n",
    " Because variable names cannot begin with a number."
   ]
  },
  {
   "cell_type": "code",
   "execution_count": 7,
   "metadata": {},
   "outputs": [
    {
     "data": {
      "text/plain": [
       "100"
      ]
     },
     "execution_count": 7,
     "metadata": {},
     "output_type": "execute_result"
    }
   ],
   "source": [
    "eggs100 =100\n",
    "eggs100"
   ]
  },
  {
   "cell_type": "markdown",
   "metadata": {},
   "source": [
    "<span style=\"color:blue\">9. What three functions can be used to get the integer, floating-point number, or string version of a value?</span>\n",
    "\n",
    "**Answer**\n",
    " int() , float() , and str( ) functions "
   ]
  },
  {
   "cell_type": "markdown",
   "metadata": {},
   "source": [
    "<span style=\"color:blue\">10. Why does this expression cause an error? How can you fix it?</span>\n",
    "\n",
    "**Answer**\n",
    "'I have eaten ' + 99 + ' burritos.'\n",
    "\n",
    "An expression is a combination of values and operators. ... The expression causes an error because 99 is an integer, \n",
    "and only strings can be concatenated to other strings with the + operator."
   ]
  },
  {
   "cell_type": "code",
   "execution_count": 10,
   "metadata": {},
   "outputs": [
    {
     "data": {
      "text/plain": [
       "'I have eaten 99 burritos.'"
      ]
     },
     "execution_count": 10,
     "metadata": {},
     "output_type": "execute_result"
    }
   ],
   "source": [
    "s = 'I have eaten ' + str(99) + ' burritos.'\n",
    "s"
   ]
  }
 ],
 "metadata": {
  "interpreter": {
   "hash": "825564dc4f0a0cc7e8b882344345f55d26eb14955a296117df548d825c3142f1"
  },
  "kernelspec": {
   "display_name": "Python 3.10.0 64-bit",
   "language": "python",
   "name": "python3"
  },
  "language_info": {
   "codemirror_mode": {
    "name": "ipython",
    "version": 3
   },
   "file_extension": ".py",
   "mimetype": "text/x-python",
   "name": "python",
   "nbconvert_exporter": "python",
   "pygments_lexer": "ipython3",
   "version": "3.10.0"
  },
  "orig_nbformat": 4
 },
 "nbformat": 4,
 "nbformat_minor": 2
}
